{
 "cells": [
  {
   "cell_type": "code",
   "execution_count": 1,
   "id": "4d807d91",
   "metadata": {},
   "outputs": [],
   "source": [
    "from keras.preprocessing.image import ImageDataGenerator\n",
    "import cv2\n",
    "from keras.models import Sequential\n",
    "from keras.layers import Conv2D, Input, ZeroPadding2D, BatchNormalization, Activation, MaxPooling2D, Flatten, Dense,Dropout\n",
    "from keras.models import Model, load_model\n",
    "from keras.callbacks import TensorBoard, ModelCheckpoint\n",
    "from sklearn.model_selection import train_test_split\n",
    "from sklearn.metrics import f1_score\n",
    "from sklearn.utils import shuffle\n",
    "import imutils\n",
    "import numpy as np\n",
    "from tensorflow.keras.optimizers import RMSprop"
   ]
  },
  {
   "cell_type": "code",
   "execution_count": 2,
   "id": "98692a2f",
   "metadata": {},
   "outputs": [],
   "source": [
    "model = Sequential([\n",
    "    Conv2D(100, (3,3), activation='relu', input_shape=(150, 150, 3)),\n",
    "    MaxPooling2D(2,2),\n",
    "    \n",
    "    Conv2D(100, (3,3), activation='relu'),\n",
    "    MaxPooling2D(2,2),\n",
    "    \n",
    "    Flatten(),\n",
    "    Dropout(0.5),\n",
    "    Dense(50, activation='relu'),\n",
    "    Dense(2, activation='softmax')\n",
    "])\n",
    "model.compile(optimizer='adam', loss='binary_crossentropy', metrics=['acc'])"
   ]
  },
  {
   "cell_type": "code",
   "execution_count": 3,
   "id": "50b928fd",
   "metadata": {},
   "outputs": [
    {
     "name": "stdout",
     "output_type": "stream",
     "text": [
      "Found 1305 images belonging to 2 classes.\n",
      "Found 194 images belonging to 2 classes.\n"
     ]
    }
   ],
   "source": [
    "TRAINING_DIR = r\"E:\\Datasets\\face-mask-dataset\\Dataset\\train\"\n",
    "train_datagen = ImageDataGenerator(rescale=1.0/255,\n",
    "                                   rotation_range=40,\n",
    "                                   width_shift_range=0.2,\n",
    "                                   height_shift_range=0.2,\n",
    "                                   shear_range=0.2,\n",
    "                                   zoom_range=0.2,\n",
    "                                   horizontal_flip=True,\n",
    "                                   fill_mode='nearest')\n",
    "train_generator = train_datagen.flow_from_directory(TRAINING_DIR, \n",
    "                                                    batch_size=10, \n",
    "                                                    target_size=(150, 150))\n",
    "VALIDATION_DIR = r\"E:\\Datasets\\face-mask-dataset\\Dataset\\test\"\n",
    "validation_datagen = ImageDataGenerator(rescale=1.0/255)\n",
    "validation_generator = validation_datagen.flow_from_directory(VALIDATION_DIR, \n",
    "                                                         batch_size=10, \n",
    "                                                         target_size=(150, 150))"
   ]
  },
  {
   "cell_type": "code",
   "execution_count": 7,
   "id": "59dda2a5",
   "metadata": {},
   "outputs": [],
   "source": [
    "import PIL\n",
    "from pathlib import Path\n",
    "from PIL import UnidentifiedImageError\n",
    "\n",
    "path = Path(r\"E:\\Datasets\\face-mask-dataset\\Dataset\\train\").rglob(\"*.jpg\")\n",
    "for img_p in path:\n",
    "    try:\n",
    "        img = PIL.Image.open(img_p)\n",
    "    except PIL.UnidentifiedImageError:\n",
    "            print(img_p)"
   ]
  },
  {
   "cell_type": "code",
   "execution_count": 8,
   "id": "f6bbc8e5",
   "metadata": {},
   "outputs": [],
   "source": [
    "path2 = Path(r\"E:\\Datasets\\face-mask-dataset\\Dataset\\test\").rglob(\"*.jpg\")\n",
    "for img_p in path2:\n",
    "    try:\n",
    "        img = PIL.Image.open(img_p)\n",
    "    except PIL.UnidentifiedImageError:\n",
    "            print(img_p)"
   ]
  },
  {
   "cell_type": "code",
   "execution_count": 23,
   "id": "43a4e2a9",
   "metadata": {},
   "outputs": [],
   "source": [
    "checkpoint = ModelCheckpoint('model2-{epoch:03d}.model',monitor='val_loss',verbose=0,save_best_only=True,mode='auto')"
   ]
  },
  {
   "cell_type": "code",
   "execution_count": 10,
   "id": "96d8088c",
   "metadata": {
    "scrolled": true
   },
   "outputs": [
    {
     "name": "stdout",
     "output_type": "stream",
     "text": [
      "Epoch 1/10\n",
      "131/131 [==============================] - ETA: 0s - loss: 0.5589 - acc: 0.7341INFO:tensorflow:Assets written to: model2-001.model\\assets\n",
      "131/131 [==============================] - 95s 720ms/step - loss: 0.5589 - acc: 0.7341 - val_loss: 0.1679 - val_acc: 0.9433\n",
      "Epoch 2/10\n",
      "131/131 [==============================] - 91s 695ms/step - loss: 0.5326 - acc: 0.7808 - val_loss: 0.2817 - val_acc: 0.9021\n",
      "Epoch 3/10\n",
      "131/131 [==============================] - ETA: 0s - loss: 0.3296 - acc: 0.8766INFO:tensorflow:Assets written to: model2-003.model\\assets\n",
      "131/131 [==============================] - 93s 711ms/step - loss: 0.3296 - acc: 0.8766 - val_loss: 0.1492 - val_acc: 0.9588\n",
      "Epoch 4/10\n",
      "131/131 [==============================] - ETA: 0s - loss: 0.3155 - acc: 0.8874INFO:tensorflow:Assets written to: model2-004.model\\assets\n",
      "131/131 [==============================] - 94s 717ms/step - loss: 0.3155 - acc: 0.8874 - val_loss: 0.1273 - val_acc: 0.9381\n",
      "Epoch 5/10\n",
      "131/131 [==============================] - ETA: 0s - loss: 0.2490 - acc: 0.9019INFO:tensorflow:Assets written to: model2-005.model\\assets\n",
      "131/131 [==============================] - 93s 710ms/step - loss: 0.2490 - acc: 0.9019 - val_loss: 0.1039 - val_acc: 0.9433\n",
      "Epoch 6/10\n",
      "131/131 [==============================] - 91s 691ms/step - loss: 0.2697 - acc: 0.8943 - val_loss: 0.1147 - val_acc: 0.9381\n",
      "Epoch 7/10\n",
      "131/131 [==============================] - ETA: 0s - loss: 0.2133 - acc: 0.9172INFO:tensorflow:Assets written to: model2-007.model\\assets\n",
      "131/131 [==============================] - 93s 711ms/step - loss: 0.2133 - acc: 0.9172 - val_loss: 0.0544 - val_acc: 0.9794\n",
      "Epoch 8/10\n",
      "131/131 [==============================] - 93s 711ms/step - loss: 0.1891 - acc: 0.9295 - val_loss: 0.0800 - val_acc: 0.9639\n",
      "Epoch 9/10\n",
      "131/131 [==============================] - ETA: 0s - loss: 0.1906 - acc: 0.9272INFO:tensorflow:Assets written to: model2-009.model\\assets\n",
      "131/131 [==============================] - 98s 751ms/step - loss: 0.1906 - acc: 0.9272 - val_loss: 0.0418 - val_acc: 0.9794\n",
      "Epoch 10/10\n",
      "131/131 [==============================] - 94s 715ms/step - loss: 0.2528 - acc: 0.8966 - val_loss: 0.0559 - val_acc: 0.9897\n"
     ]
    }
   ],
   "source": [
    "history = model.fit(train_generator,\n",
    "                              epochs=10,\n",
    "                              validation_data=validation_generator,\n",
    "                              callbacks=[checkpoint])"
   ]
  }
 ],
 "metadata": {
  "kernelspec": {
   "display_name": "Python 3",
   "language": "python",
   "name": "python3"
  },
  "language_info": {
   "codemirror_mode": {
    "name": "ipython",
    "version": 3
   },
   "file_extension": ".py",
   "mimetype": "text/x-python",
   "name": "python",
   "nbconvert_exporter": "python",
   "pygments_lexer": "ipython3",
   "version": "3.8.8"
  }
 },
 "nbformat": 4,
 "nbformat_minor": 5
}
